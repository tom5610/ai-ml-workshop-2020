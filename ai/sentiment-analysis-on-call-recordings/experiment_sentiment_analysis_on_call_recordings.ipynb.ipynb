{
 "cells": [
  {
   "cell_type": "markdown",
   "metadata": {},
   "source": [
    "# Experiment Sentiment Analysis on Calls Recording\n",
    "\n",
    "In the notebook, we will be experimenting how to trigger a serverless-based workflow to do sentiment analysis on calls recordings. The use case is based on using Amazon Connect for call center setup and forwarding call recordings to a S3 bucket to trigger sentiment analysis of the call conversation. \n",
    "\n",
    "In the lab, we won't cover Amazon Connect setup, but will focus on how to use serverless-based architecture to manager the how process, including:\n",
    "* Using AWS Lambda function to split audio file\n",
    "* Using Amazon Transcribe to do speech recognition with Step Functions orchestration (coverting voice to text)\n",
    "* Using Amazon Comprehend to do sentiment analysis on the text content\n",
    "\n",
    "## Architecture Design\n",
    "\n",
    "![architecture diagram](./images/sentiment-analysis-on-calls-recording.png)\n",
    "\n",
    "## To Experiment\n",
    "\n",
    "* To prepare a `*.wav` format file and upload to target S3 bucket to trigger the whole process\n",
    "* To review the text content and compare to the origin\n",
    "* To review the sentment analysis result \n"
   ]
  },
  {
   "cell_type": "markdown",
   "metadata": {},
   "source": [
    "#### Initialization"
   ]
  },
  {
   "cell_type": "code",
   "execution_count": 1,
   "metadata": {},
   "outputs": [],
   "source": [
    "import boto3\n",
    "\n",
    "bucket_name = \"\""
   ]
  },
  {
   "cell_type": "markdown",
   "metadata": {},
   "source": [
    "### To Trigger the Process"
   ]
  },
  {
   "cell_type": "markdown",
   "metadata": {},
   "source": [
    "#### Voice file collection"
   ]
  },
  {
   "cell_type": "code",
   "execution_count": null,
   "metadata": {},
   "outputs": [],
   "source": [
    "!wget http://www.voiptroubleshooter.com/open_speech/american/OSR_us_000_0010_8k.wav"
   ]
  },
  {
   "cell_type": "code",
   "execution_count": null,
   "metadata": {},
   "outputs": [],
   "source": []
  },
  {
   "cell_type": "code",
   "execution_count": null,
   "metadata": {},
   "outputs": [],
   "source": []
  }
 ],
 "metadata": {
  "kernelspec": {
   "display_name": "conda_python3",
   "language": "python",
   "name": "conda_python3"
  },
  "language_info": {
   "codemirror_mode": {
    "name": "ipython",
    "version": 3
   },
   "file_extension": ".py",
   "mimetype": "text/x-python",
   "name": "python",
   "nbconvert_exporter": "python",
   "pygments_lexer": "ipython3",
   "version": "3.6.10"
  }
 },
 "nbformat": 4,
 "nbformat_minor": 4
}
